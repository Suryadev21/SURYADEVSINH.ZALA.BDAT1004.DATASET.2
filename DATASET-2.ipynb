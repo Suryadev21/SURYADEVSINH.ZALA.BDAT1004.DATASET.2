{
 "cells": [
  {
   "cell_type": "code",
   "execution_count": 1,
   "id": "c1544ef9",
   "metadata": {},
   "outputs": [
    {
     "data": {
      "text/plain": [
       "6"
      ]
     },
     "execution_count": 1,
     "metadata": {},
     "output_type": "execute_result"
    }
   ],
   "source": [
    "//QUESTION-1\n",
    "\n",
    "a = 0\n",
    "def b():\n",
    " global a\n",
    " a = c(a)\n",
    "\n",
    "def c(a):\n",
    " return a + 2\n",
    "b()\n",
    "b()\n",
    "b()\n",
    "a"
   ]
  },
  {
   "cell_type": "code",
   "execution_count": null,
   "id": "ce9c02ff",
   "metadata": {},
   "outputs": [],
   "source": [
    "//The value is defined as global inside so is keeps on adding 2 every time\n",
    "b() 0 + 2 = 2\n",
    "b() 2 + 2 = 4\n",
    "b() 4 + 2 = 6"
   ]
  },
  {
   "cell_type": "code",
   "execution_count": null,
   "id": "993b891b",
   "metadata": {},
   "outputs": [],
   "source": [
    "//QUESTION-2\n",
    "\n",
    "def fileLength(filename):\n",
    " try:\n",
    " infile = open(filename)\n",
    " contents = infile.read()\n",
    " infile.close()\n",
    " return len(contents)\n",
    " except:\n",
    " print(\"File \" + filename+ \" not found.\")"
   ]
  },
  {
   "cell_type": "code",
   "execution_count": null,
   "id": "c28c8d38",
   "metadata": {},
   "outputs": [],
   "source": [
    "fileLength(\"200534974-ProblemSet1.ipynb\")"
   ]
  },
  {
   "cell_type": "code",
   "execution_count": null,
   "id": "c492bfc1",
   "metadata": {},
   "outputs": [],
   "source": [
    "fileLength(\"00505419 - Problem Set 1.ipynb\")"
   ]
  },
  {
   "cell_type": "code",
   "execution_count": null,
   "id": "4671a26b",
   "metadata": {},
   "outputs": [],
   "source": [
    "//QUESTION-3\n",
    "\n",
    "class Marsupial:\n",
    " def __init__(self):\n",
    " self.pouch = []\n",
    " def put_in_pouch(self, item):\n",
    " self.pouch.append(item)\n",
    " def pouch_contents(self):\n",
    " return self.pouch\n",
    "class Kangaroo(Marsupial):\n",
    " def __init__(self, x, y):\n",
    " super().__init__()\n",
    " self.x = x\n",
    " self.y = y\n",
    " def jump(self, dx, dy):\n",
    " self.x += dx\n",
    " self.y += dy\n",
    " def __str__(self):\n",
    " return f\"I am a kangaroo located at coordinates ({self.x},{self.y})\""
   ]
  },
  {
   "cell_type": "code",
   "execution_count": null,
   "id": "443ccbf6",
   "metadata": {},
   "outputs": [],
   "source": [
    "m = Marsupial()\n",
    "m.put_in_pouch('doll')\n",
    "m.put_in_pouch('firetruck')\n",
    "m.put_in_pouch('kitten')\n",
    "print(m.pouch_contents())\n"
   ]
  },
  {
   "cell_type": "code",
   "execution_count": null,
   "id": "bd4c18b2",
   "metadata": {},
   "outputs": [],
   "source": [
    "k = Kangaroo(0,0)\n",
    "print(k)\n"
   ]
  },
  {
   "cell_type": "code",
   "execution_count": null,
   "id": "1e4a83bd",
   "metadata": {},
   "outputs": [],
   "source": [
    "k.put_in_pouch('doll')\n",
    "k.put_in_pouch('firetruck')\n",
    "k.put_in_pouch('kitten')\n",
    "print(k.pouch_contents())\n"
   ]
  },
  {
   "cell_type": "code",
   "execution_count": null,
   "id": "d174793a",
   "metadata": {},
   "outputs": [],
   "source": [
    "k.jump(1,0)\n",
    "k.jump(1,0)\n",
    "k.jump(1,0)\n",
    "print(k)\n"
   ]
  },
  {
   "cell_type": "code",
   "execution_count": null,
   "id": "51d2b811",
   "metadata": {},
   "outputs": [],
   "source": [
    "//QUESTION-4\n",
    "\n",
    "def collatz(x):\n",
    " if x == 1:\n",
    " return 1\n",
    " if x % 2 == 0:\n",
    " print(x)\n",
    " return collatz(x/2)\n",
    " else:\n",
    " print(x)\n",
    " return collatz(x+1)"
   ]
  },
  {
   "cell_type": "code",
   "execution_count": null,
   "id": "3cbc199e",
   "metadata": {},
   "outputs": [],
   "source": [
    "collatz(1) "
   ]
  },
  {
   "cell_type": "code",
   "execution_count": null,
   "id": "001548ab",
   "metadata": {},
   "outputs": [],
   "source": [
    "collatz(10) "
   ]
  },
  {
   "cell_type": "code",
   "execution_count": null,
   "id": "e3499b8a",
   "metadata": {},
   "outputs": [],
   "source": [
    "QUESTION-5\n"
   ]
  },
  {
   "cell_type": "code",
   "execution_count": null,
   "id": "8876966b",
   "metadata": {},
   "outputs": [],
   "source": [
    "dec = int(input(\"Enter an integer: \"))\n",
    "binary(dec) "
   ]
  },
  {
   "cell_type": "code",
   "execution_count": null,
   "id": "45b9913c",
   "metadata": {},
   "outputs": [],
   "source": [
    "//QUESTION-6\n",
    "\n",
    "from html.parser import HTMLParser\n",
    "# Inherit from Html parser\n",
    "class HeadingParser(HTMLParser):\n",
    " # Define the headings\n",
    " headers = ['h1', 'h2', 'h3', 'h4', 'h5', 'h6']\n",
    " # Handle the functions\n",
    " def handle_starttag(self, tag, attrs):\n",
    " if tag in self.headers:\n",
    " print(tag)\n",
    "\n",
    " def handle_endtag(self, tag):\n",
    " if tag in self.headers:\n",
    " print(tag)\n",
    "\n",
    " def handle_data(self, data):\n",
    " print(data)\n",
    "# EST HERE\n",
    "parser = HeadingParser()\n",
    "infile = open('w3c.html')\n",
    "content = infile.read()\n",
    "infile.close()\n",
    "hp = HeadingParser()\n",
    "hp.feed(content)"
   ]
  },
  {
   "cell_type": "code",
   "execution_count": null,
   "id": "647c0c89",
   "metadata": {},
   "outputs": [],
   "source": [
    "//QUESTION-7\n",
    "\n",
    "def webdir(url, depth, indent):\n",
    " if depth == 0:\n",
    " print(indent*\" \"+url)\n",
    " return\n",
    " else:\n",
    " print(indent*\" \"+url)\n",
    " webdir(url, depth-1, indent+1)"
   ]
  },
  {
   "cell_type": "code",
   "execution_count": null,
   "id": "010ab05b",
   "metadata": {},
   "outputs": [],
   "source": [
    "webdir('http://reed.cs.depaul.edu/lperkovic/csc242/test1.html', 2, 0)"
   ]
  },
  {
   "cell_type": "code",
   "execution_count": null,
   "id": "3014bd60",
   "metadata": {},
   "outputs": [],
   "source": [
    "//QUESTION-8\n",
    "\n",
    "import sqlite3\n",
    "con = sqlite3.connect('web.db')\n",
    "cur = con.cursor()\n",
    "cur.execute(\"CREATE TABLE Weather (City,Country,Season,Temperature,Rainfall)\")\n",
    "cur.execute(\"INSERT INTO Weather VALUES ('Mumbai','India','Winter',24.8,5.9)\")\n",
    "cur.execute(\"INSERT INTO Weather VALUES ('Mumbai','India','Spring',28.4,16.2)\")\n",
    "cur.execute(\"INSERT INTO Weather VALUES ('Mumbai','India','Summer',27.9,1549.4)\")\n",
    "cur.execute(\"INSERT INTO Weather VALUES ('Mumbai','India','Fall',27.6,346.0)\")\n",
    "cur.execute(\"INSERT INTO Weather VALUES ('London','United Kingdom','Winter',4.2,2\n",
    "cur.execute(\"INSERT INTO Weather VALUES ('London','United Kingdom','Spring',8.3,1\n",
    "cur.execute(\"INSERT INTO Weather VALUES ('London','United Kingdom','Summer',15.7,\n",
    "cur.execute(\"INSERT INTO Weather VALUES ('London','United Kingdom','Fall',10.4,21\n",
    "cur.execute(\"INSERT INTO Weather VALUES ('Cairo','Egypt','Winter',13.6,16.5)\")\n",
    "cur.execute(\"INSERT INTO Weather VALUES ('Cairo','Egypt','Spring',20.7,6.5)\")\n",
    "cur.execute(\"INSERT INTO Weather VALUES ('Cairo','Egypt','Summer',27.7,0.1)\")\n",
    "cur.execute(\"INSERT INTO Weather VALUES ('Cairo','Egypt','Fall',22.2,4.5)\")\n"
   ]
  },
  {
   "cell_type": "code",
   "execution_count": null,
   "id": "d134649d",
   "metadata": {},
   "outputs": [],
   "source": [
    "cur.execute (\"select * from Weather\")\n",
    "for record in cur:\n",
    " print(record)\n"
   ]
  },
  {
   "cell_type": "code",
   "execution_count": null,
   "id": "d50aa0bc",
   "metadata": {},
   "outputs": [],
   "source": [
    "cur.execute (\"select DISTINCT City from Weather\")\n",
    "for record in cur:\n",
    " print(record)"
   ]
  },
  {
   "cell_type": "code",
   "execution_count": null,
   "id": "7d1e3cb8",
   "metadata": {},
   "outputs": [],
   "source": [
    "cur.execute (\"select * from Weather where Country='India';\")\n",
    "for record in cur:\n",
    " print(record)\n"
   ]
  },
  {
   "cell_type": "code",
   "execution_count": null,
   "id": "7e86ff91",
   "metadata": {},
   "outputs": [],
   "source": [
    "cur.execute (\"select * from Weather where Season='Fall';\")\n",
    "for record in cur:\n",
    " print(record)\n"
   ]
  },
  {
   "cell_type": "code",
   "execution_count": null,
   "id": "ac57c99d",
   "metadata": {},
   "outputs": [],
   "source": [
    "cur.execute (\"SELECT City,Country,Season FROM Weather WHERE Rainfall BETWEEN 200\n",
    "for record in cur:\n",
    " print(record)"
   ]
  },
  {
   "cell_type": "code",
   "execution_count": null,
   "id": "e614318d",
   "metadata": {},
   "outputs": [],
   "source": [
    "cur.execute (\"SELECT City,Country FROM Weather WHERE Season='Fall' and Temperatur\n",
    "for record in cur:\n",
    " print(record)\n"
   ]
  },
  {
   "cell_type": "code",
   "execution_count": null,
   "id": "55db671c",
   "metadata": {},
   "outputs": [],
   "source": [
    "cur.execute (\"SELECT SUM(Rainfall) FROM Weather WHERE City='Cairo';\")\n",
    "for record in cur:\n",
    " print(record)"
   ]
  },
  {
   "cell_type": "code",
   "execution_count": null,
   "id": "e34b46de",
   "metadata": {},
   "outputs": [],
   "source": [
    "cur.execute (\"SELECT Season,SUM(Rainfall) FROM Weather GROUP BY Season;\")\n",
    "for record in cur:\n",
    " print(record)\n"
   ]
  },
  {
   "cell_type": "code",
   "execution_count": null,
   "id": "f8e9c03a",
   "metadata": {},
   "outputs": [],
   "source": [
    "//QUESTION-8\n",
    "\n",
    "words = ['The', 'quick', 'brown', 'fox', 'jumps', 'over','the', 'lazy', 'dog']\n",
    "[x.upper() for x in words]\n"
   ]
  },
  {
   "cell_type": "code",
   "execution_count": null,
   "id": "d9a5d404",
   "metadata": {},
   "outputs": [],
   "source": [
    "[x.lower() for x in words]\n"
   ]
  },
  {
   "cell_type": "code",
   "execution_count": null,
   "id": "6aacb1dc",
   "metadata": {},
   "outputs": [],
   "source": [
    "[len(x) for x in words]"
   ]
  },
  {
   "cell_type": "code",
   "execution_count": null,
   "id": "c22ac843",
   "metadata": {},
   "outputs": [],
   "source": [
    "[[x.upper(),x.lower(),len(x)] for x in words]\n"
   ]
  },
  {
   "cell_type": "code",
   "execution_count": null,
   "id": "11518061",
   "metadata": {},
   "outputs": [],
   "source": [
    "[x for x in words if len(x) > 3]"
   ]
  }
 ],
 "metadata": {
  "kernelspec": {
   "display_name": "Python 3 (ipykernel)",
   "language": "python",
   "name": "python3"
  },
  "language_info": {
   "codemirror_mode": {
    "name": "ipython",
    "version": 3
   },
   "file_extension": ".py",
   "mimetype": "text/x-python",
   "name": "python",
   "nbconvert_exporter": "python",
   "pygments_lexer": "ipython3",
   "version": "3.11.0"
  }
 },
 "nbformat": 4,
 "nbformat_minor": 5
}
